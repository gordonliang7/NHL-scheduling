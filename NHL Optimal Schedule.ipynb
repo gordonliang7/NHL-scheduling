{
 "cells": [
  {
   "cell_type": "code",
   "execution_count": 1,
   "id": "0355b363",
   "metadata": {},
   "outputs": [],
   "source": [
    "from requests import get\n",
    "import pandas as pd\n",
    "import datetime as dt\n",
    "import seaborn as sns\n",
    "import matplotlib.pyplot as plt\n",
    "import numpy as np\n",
    "from queue import PriorityQueue as PQ\n",
    "from geopy import distance\n",
    "from time import time as t"
   ]
  },
  {
   "cell_type": "code",
   "execution_count": 2,
   "id": "89496892",
   "metadata": {},
   "outputs": [],
   "source": [
    "# Helpers for accessing the NHL API (btw I love you NHL for having an API for us nerds)\n",
    "\n",
    "teamAbbrev = [i['default'] for i in pd.DataFrame(get('https://api-web.nhle.com/v1/standings/now').json()['standings'])['teamAbbrev']]\n",
    "\n",
    "def ask(link):\n",
    "    '''Input: Link (str)\n",
    "    Output: Json of Info (dict)'''\n",
    "    return get(link).json()"
   ]
  },
  {
   "cell_type": "code",
   "execution_count": 3,
   "id": "b1b83b24",
   "metadata": {},
   "outputs": [],
   "source": [
    "#Data From ChatGPT\n",
    "\n",
    "nhl_stadiums = [\n",
    "    {\n",
    "        \"Team\": \"Anaheim Ducks\",\n",
    "        \"Stadium\": \"Honda Center\",\n",
    "        \"teamAbbrev\": \"ANA\",\n",
    "        \"Longitude\": -117.8763,\n",
    "        \"Latitude\": 33.8075\n",
    "    },\n",
    "    {\n",
    "        \"Team\": \"Arizona Coyotes\",\n",
    "        \"Stadium\": \"Gila River Arena\",\n",
    "        \"teamAbbrev\": \"ARI\",\n",
    "        \"Longitude\": -112.1886,\n",
    "        \"Latitude\": 33.5317\n",
    "    },\n",
    "    {\n",
    "        \"Team\": \"Boston Bruins\",\n",
    "        \"Stadium\": \"TD Garden\",\n",
    "        \"teamAbbrev\": \"BOS\",\n",
    "        \"Longitude\": -71.0621,\n",
    "        \"Latitude\": 42.3662\n",
    "    },\n",
    "    {\n",
    "        \"Team\": \"Buffalo Sabres\",\n",
    "        \"Stadium\": \"KeyBank Center\",\n",
    "        \"teamAbbrev\": \"BUF\",\n",
    "        \"Longitude\": -78.8756,\n",
    "        \"Latitude\": 42.8750\n",
    "    },\n",
    "    {\n",
    "        \"Team\": \"Calgary Flames\",\n",
    "        \"Stadium\": \"Scotiabank Saddledome\",\n",
    "        \"teamAbbrev\": \"CGY\",\n",
    "        \"Longitude\": -114.0555,\n",
    "        \"Latitude\": 51.0374\n",
    "    },\n",
    "    {\n",
    "        \"Team\": \"Carolina Hurricanes\",\n",
    "        \"Stadium\": \"PNC Arena\",\n",
    "        \"teamAbbrev\": \"CAR\",\n",
    "        \"Longitude\": -78.7728,\n",
    "        \"Latitude\": 35.8033\n",
    "    },\n",
    "    {\n",
    "        \"Team\": \"Chicago Blackhawks\",\n",
    "        \"Stadium\": \"United Center\",\n",
    "        \"teamAbbrev\": \"CHI\",\n",
    "        \"Longitude\": -87.6742,\n",
    "        \"Latitude\": 41.8807\n",
    "    },\n",
    "    {\n",
    "        \"Team\": \"Colorado Avalanche\",\n",
    "        \"Stadium\": \"Ball Arena\",\n",
    "        \"teamAbbrev\": \"COL\",\n",
    "        \"Longitude\": -105.0070,\n",
    "        \"Latitude\": 39.7487\n",
    "    },\n",
    "    {\n",
    "        \"Team\": \"Columbus Blue Jackets\",\n",
    "        \"Stadium\": \"Nationwide Arena\",\n",
    "        \"teamAbbrev\": \"CBJ\",\n",
    "        \"Longitude\": -83.0466,\n",
    "        \"Latitude\": 39.9694\n",
    "    },\n",
    "    {\n",
    "        \"Team\": \"Dallas Stars\",\n",
    "        \"Stadium\": \"American Airlines Center\",\n",
    "        \"teamAbbrev\": \"DAL\",\n",
    "        \"Longitude\": -96.8104,\n",
    "        \"Latitude\": 32.7903\n",
    "    },\n",
    "    {\n",
    "        \"Team\": \"Detroit Red Wings\",\n",
    "        \"Stadium\": \"Little Caesars Arena\",\n",
    "        \"teamAbbrev\": \"DET\",\n",
    "        \"Longitude\": -83.0552,\n",
    "        \"Latitude\": 42.3410\n",
    "    },\n",
    "    {\n",
    "        \"Team\": \"Edmonton Oilers\",\n",
    "        \"Stadium\": \"Rogers Place\",\n",
    "        \"teamAbbrev\": \"EDM\",\n",
    "        \"Longitude\": -113.5098,\n",
    "        \"Latitude\": 53.5461\n",
    "    },\n",
    "    {\n",
    "        \"Team\": \"Florida Panthers\",\n",
    "        \"Stadium\": \"FLA Live Arena\",\n",
    "        \"teamAbbrev\": \"FLA\",\n",
    "        \"Longitude\": -80.3256,\n",
    "        \"Latitude\": 26.1584\n",
    "    },\n",
    "    {\n",
    "        \"Team\": \"Los Angeles Kings\",\n",
    "        \"Stadium\": \"Crypto.com Arena\",\n",
    "        \"teamAbbrev\": \"LAK\",\n",
    "        \"Longitude\": -118.2673,\n",
    "        \"Latitude\": 34.0430\n",
    "    },\n",
    "    {\n",
    "        \"Team\": \"Minnesota Wild\",\n",
    "        \"Stadium\": \"Xcel Energy Center\",\n",
    "        \"teamAbbrev\": \"MIN\",\n",
    "        \"Longitude\": -93.1012,\n",
    "        \"Latitude\": 44.9442\n",
    "    },\n",
    "    {\n",
    "        \"Team\": \"Montréal Canadiens\",\n",
    "        \"Stadium\": \"Bell Centre\",\n",
    "        \"teamAbbrev\": \"MTL\",\n",
    "        \"Longitude\": -73.5697,\n",
    "        \"Latitude\": 45.4961\n",
    "    },\n",
    "    {\n",
    "        \"Team\": \"Nashville Predators\",\n",
    "        \"Stadium\": \"Bridgestone Arena\",\n",
    "        \"teamAbbrev\": \"NSH\",\n",
    "        \"Longitude\": -86.7776,\n",
    "        \"Latitude\": 36.1592\n",
    "    },\n",
    "    {\n",
    "        \"Team\": \"New Jersey Devils\",\n",
    "        \"Stadium\": \"Prudential Center\",\n",
    "        \"teamAbbrev\": \"NJD\",\n",
    "        \"Longitude\": -74.1745,\n",
    "        \"Latitude\": 40.7337\n",
    "    },\n",
    "    {\n",
    "        \"Team\": \"New York Islanders\",\n",
    "        \"Stadium\": \"UBS Arena\",\n",
    "        \"teamAbbrev\": \"NYI\",\n",
    "        \"Longitude\": -73.8726,\n",
    "        \"Latitude\": 40.7181\n",
    "    },\n",
    "    {\n",
    "        \"Team\": \"New York Rangers\",\n",
    "        \"Stadium\": \"Madison Square Garden\",\n",
    "        \"teamAbbrev\": \"NYR\",\n",
    "        \"Longitude\": -73.9933,\n",
    "        \"Latitude\": 40.7505\n",
    "    },\n",
    "    {\n",
    "        \"Team\": \"Ottawa Senators\",\n",
    "        \"Stadium\": \"Canadian Tire Centre\",\n",
    "        \"teamAbbrev\": \"OTT\",\n",
    "        \"Longitude\": -75.9252,\n",
    "        \"Latitude\": 45.2968\n",
    "    },\n",
    "    {\n",
    "        \"Team\": \"Philadelphia Flyers\",\n",
    "        \"Stadium\": \"Wells Fargo Center\",\n",
    "        \"teamAbbrev\": \"PHI\",\n",
    "        \"Longitude\": -75.1719,\n",
    "        \"Latitude\": 39.9012\n",
    "    },\n",
    "    {\n",
    "        \"Team\": \"Pittsburgh Penguins\",\n",
    "        \"Stadium\": \"PPG Paints Arena\",\n",
    "        \"teamAbbrev\": \"PIT\",\n",
    "        \"Longitude\": -79.9898,\n",
    "        \"Latitude\": 40.4394\n",
    "    },\n",
    "    {\n",
    "        \"Team\": \"San Jose Sharks\",\n",
    "        \"Stadium\": \"SAP Center at San Jose\",\n",
    "        \"teamAbbrev\": \"SJS\",\n",
    "        \"Longitude\": -121.9018,\n",
    "        \"Latitude\": 37.3328\n",
    "    },\n",
    "    {\n",
    "        \"Team\": \"Seattle Kraken\",\n",
    "        \"Stadium\": \"Climate Pledge Arena\",\n",
    "        \"teamAbbrev\": \"SEA\",\n",
    "        \"Longitude\": -122.3549,\n",
    "        \"Latitude\": 47.6205\n",
    "    },\n",
    "    {\n",
    "        \"Team\": \"St. Louis Blues\",\n",
    "        \"Stadium\": \"Enterprise Center\",\n",
    "        \"teamAbbrev\": \"STL\",\n",
    "        \"Longitude\": -90.2028,\n",
    "        \"Latitude\": 38.6268\n",
    "    },\n",
    "    {\n",
    "        \"Team\": \"Tampa Bay Lightning\",\n",
    "        \"Stadium\": \"Amalie Arena\",\n",
    "        \"teamAbbrev\": \"TBL\",\n",
    "        \"Longitude\": -82.5333,\n",
    "        \"Latitude\": 27.9428\n",
    "    },\n",
    "    {\n",
    "        \"Team\": \"Toronto Maple Leafs\",\n",
    "        \"Stadium\": \"Scotiabank Arena\",\n",
    "        \"teamAbbrev\": \"TOR\",\n",
    "        \"Longitude\": -79.3832,\n",
    "        \"Latitude\": 43.6435\n",
    "    },\n",
    "    {    \"Team\": \"Vancouver Canucks\",\n",
    "    \"Stadium\": \"Rogers Arena\",\n",
    "    \"teamAbbrev\": \"VAN\",\n",
    "    \"Longitude\": -123.1107,\n",
    "    \"Latitude\": 49.2778\n",
    "},\n",
    "{\n",
    "    \"Team\": \"Vegas Golden Knights\",\n",
    "    \"Stadium\": \"T-Mobile Arena\",\n",
    "    \"teamAbbrev\": \"VGK\",\n",
    "    \"Longitude\": -115.1713,\n",
    "    \"Latitude\": 36.1020\n",
    "},\n",
    "{\n",
    "    \"Team\": \"Washington Capitals\",\n",
    "    \"Stadium\": \"Capital One Arena\",\n",
    "    \"teamAbbrev\": \"WSH\",\n",
    "    \"Longitude\": -77.0209,\n",
    "    \"Latitude\": 38.8981\n",
    "},\n",
    "{\n",
    "    \"Team\": \"Winnipeg Jets\",\n",
    "    \"Stadium\": \"Canada Life Centre\",\n",
    "    \"teamAbbrev\": \"WPG\",\n",
    "    \"Longitude\": -97.1517,\n",
    "    \"Latitude\": 49.8925\n",
    "}\n",
    "]"
   ]
  },
  {
   "cell_type": "code",
   "execution_count": 4,
   "id": "bc6e0d09",
   "metadata": {},
   "outputs": [],
   "source": [
    "# Get all games from the 2023-24 NHL Season\n",
    "allGames = pd.concat([pd.DataFrame(ask(f'https://api-web.nhle.com/v1/club-schedule-season/{team}/now')['games']) for team in teamAbbrev]).drop_duplicates('id')"
   ]
  },
  {
   "cell_type": "code",
   "execution_count": 5,
   "id": "547691bf",
   "metadata": {},
   "outputs": [],
   "source": [
    "teamId = {row['abbrev']:row['id'] for row in allGames['awayTeam']}"
   ]
  },
  {
   "cell_type": "code",
   "execution_count": 6,
   "id": "e90c95b4",
   "metadata": {},
   "outputs": [],
   "source": [
    "teamToId = lambda team: teamId[team]"
   ]
  },
  {
   "cell_type": "code",
   "execution_count": 7,
   "id": "2d9017a5",
   "metadata": {},
   "outputs": [],
   "source": [
    "stadiums = pd.DataFrame(nhl_stadiums).set_index('teamAbbrev')"
   ]
  },
  {
   "cell_type": "code",
   "execution_count": 8,
   "id": "a7639cc8",
   "metadata": {},
   "outputs": [],
   "source": [
    "ref = pd.DataFrame(nhl_stadiums)"
   ]
  },
  {
   "cell_type": "code",
   "execution_count": 9,
   "id": "b19ca1ed",
   "metadata": {},
   "outputs": [],
   "source": [
    "stadiums['Longitude'] *= -1"
   ]
  },
  {
   "cell_type": "code",
   "execution_count": 10,
   "id": "d60e9843",
   "metadata": {},
   "outputs": [],
   "source": [
    "def dist(team1, team2):\n",
    "    if (team1 is None) or (team2 is None):\n",
    "        return 0\n",
    "    loc1 = stadiums.loc[team1]\n",
    "    loc2 = stadiums.loc[team2]\n",
    "    coord1 = (loc1['Latitude'], loc1['Longitude'])\n",
    "    coord2 = (loc2['Latitude'], loc2['Longitude'])\n",
    "    return distance.distance(coord1, coord2).miles"
   ]
  },
  {
   "cell_type": "code",
   "execution_count": 11,
   "id": "41c28a1c",
   "metadata": {},
   "outputs": [],
   "source": [
    "def randomTeam(*notThis):\n",
    "    '''Returns a random team but not teams listed'''\n",
    "    return np.random.choice([i for i in teamAbbrev if i not in notThis])"
   ]
  },
  {
   "cell_type": "code",
   "execution_count": 12,
   "id": "8500a89b",
   "metadata": {},
   "outputs": [],
   "source": [
    "data = []\n",
    "for loc1 in range(32):\n",
    "    for loc2 in range(loc1+1, 32):\n",
    "        location1 = ref.iloc[loc1]['teamAbbrev']\n",
    "        location2 = ref.iloc[loc2]['teamAbbrev']\n",
    "        data += [{'From': location1,\n",
    "                 'To': location2,\n",
    "                 'Distance': dist(location1, location2)}]"
   ]
  },
  {
   "cell_type": "code",
   "execution_count": 13,
   "id": "06f235c8",
   "metadata": {},
   "outputs": [],
   "source": [
    "ref = pd.DataFrame(data)"
   ]
  },
  {
   "cell_type": "code",
   "execution_count": 14,
   "id": "ded75d9d",
   "metadata": {},
   "outputs": [
    {
     "data": {
      "text/plain": [
       "1145.4993022852711"
      ]
     },
     "execution_count": 14,
     "metadata": {},
     "output_type": "execute_result"
    }
   ],
   "source": [
    "ref['Distance'].median()"
   ]
  },
  {
   "cell_type": "code",
   "execution_count": 15,
   "id": "4bf3282e",
   "metadata": {},
   "outputs": [
    {
     "data": {
      "text/html": [
       "<div>\n",
       "<style scoped>\n",
       "    .dataframe tbody tr th:only-of-type {\n",
       "        vertical-align: middle;\n",
       "    }\n",
       "\n",
       "    .dataframe tbody tr th {\n",
       "        vertical-align: top;\n",
       "    }\n",
       "\n",
       "    .dataframe thead th {\n",
       "        text-align: right;\n",
       "    }\n",
       "</style>\n",
       "<table border=\"1\" class=\"dataframe\">\n",
       "  <thead>\n",
       "    <tr style=\"text-align: right;\">\n",
       "      <th></th>\n",
       "      <th>From</th>\n",
       "      <th>To</th>\n",
       "      <th>Distance</th>\n",
       "    </tr>\n",
       "  </thead>\n",
       "  <tbody>\n",
       "    <tr>\n",
       "      <th>405</th>\n",
       "      <td>NYI</td>\n",
       "      <td>NYR</td>\n",
       "      <td>6.718270</td>\n",
       "    </tr>\n",
       "    <tr>\n",
       "      <th>392</th>\n",
       "      <td>NJD</td>\n",
       "      <td>NYR</td>\n",
       "      <td>9.580209</td>\n",
       "    </tr>\n",
       "    <tr>\n",
       "      <th>391</th>\n",
       "      <td>NJD</td>\n",
       "      <td>NYI</td>\n",
       "      <td>15.884794</td>\n",
       "    </tr>\n",
       "    <tr>\n",
       "      <th>12</th>\n",
       "      <td>ANA</td>\n",
       "      <td>LAK</td>\n",
       "      <td>27.715274</td>\n",
       "    </tr>\n",
       "    <tr>\n",
       "      <th>113</th>\n",
       "      <td>BUF</td>\n",
       "      <td>TOR</td>\n",
       "      <td>58.909640</td>\n",
       "    </tr>\n",
       "    <tr>\n",
       "      <th>...</th>\n",
       "      <td>...</td>\n",
       "      <td>...</td>\n",
       "      <td>...</td>\n",
       "    </tr>\n",
       "    <tr>\n",
       "      <th>482</th>\n",
       "      <td>TBL</td>\n",
       "      <td>VAN</td>\n",
       "      <td>2596.936061</td>\n",
       "    </tr>\n",
       "    <tr>\n",
       "      <th>71</th>\n",
       "      <td>BOS</td>\n",
       "      <td>LAK</td>\n",
       "      <td>2597.870474</td>\n",
       "    </tr>\n",
       "    <tr>\n",
       "      <th>81</th>\n",
       "      <td>BOS</td>\n",
       "      <td>SJS</td>\n",
       "      <td>2685.340019</td>\n",
       "    </tr>\n",
       "    <tr>\n",
       "      <th>317</th>\n",
       "      <td>FLA</td>\n",
       "      <td>SEA</td>\n",
       "      <td>2710.576434</td>\n",
       "    </tr>\n",
       "    <tr>\n",
       "      <th>321</th>\n",
       "      <td>FLA</td>\n",
       "      <td>VAN</td>\n",
       "      <td>2779.811586</td>\n",
       "    </tr>\n",
       "  </tbody>\n",
       "</table>\n",
       "<p>496 rows × 3 columns</p>\n",
       "</div>"
      ],
      "text/plain": [
       "    From   To     Distance\n",
       "405  NYI  NYR     6.718270\n",
       "392  NJD  NYR     9.580209\n",
       "391  NJD  NYI    15.884794\n",
       "12   ANA  LAK    27.715274\n",
       "113  BUF  TOR    58.909640\n",
       "..   ...  ...          ...\n",
       "482  TBL  VAN  2596.936061\n",
       "71   BOS  LAK  2597.870474\n",
       "81   BOS  SJS  2685.340019\n",
       "317  FLA  SEA  2710.576434\n",
       "321  FLA  VAN  2779.811586\n",
       "\n",
       "[496 rows x 3 columns]"
      ]
     },
     "execution_count": 15,
     "metadata": {},
     "output_type": "execute_result"
    }
   ],
   "source": [
    "ref.sort_values('Distance')"
   ]
  },
  {
   "cell_type": "code",
   "execution_count": 16,
   "id": "9a1304f0",
   "metadata": {},
   "outputs": [],
   "source": [
    "class Game:\n",
    "    def __init__(self, home, away):\n",
    "        self.home = home\n",
    "        self.away = away\n",
    "        self.teams = (home, away)\n",
    "        self.marked = False\n",
    "        self.hash = 100*teamToId(away) + teamToId(home)\n",
    "    \n",
    "    def mark(self, date):\n",
    "        self.date = date\n",
    "        self.hash += 100000*(date.day+(100*date.month)+(10000*date.year)) + 10000\n",
    "        self.marked = True\n",
    "        \n",
    "    def homeT(self, team):\n",
    "        return self.home == team\n",
    "    \n",
    "    def awayT(self, team):\n",
    "        return self.away == team\n",
    "        \n",
    "    def involves(self, team):\n",
    "        return (self.home == team) or (self.away == team)\n",
    "    \n",
    "    def __repr__(self):\n",
    "        return f'{self.away} @ {self.home}'\n",
    "    \n",
    "    def __eq__(self, other):\n",
    "        if not isinstance(other, Game):\n",
    "            return False\n",
    "        return self.hash%100000 == other.hash%100000\n",
    "    \n",
    "    def __lt__(self, other):\n",
    "        if not isinstance(other, Game):\n",
    "            return False\n",
    "        return self.hash < other.hash\n",
    "    \n",
    "    def __gt__(self, other):\n",
    "        if not isinstance(other, Game):\n",
    "            return False\n",
    "        return self.hash > other.hash\n",
    "    \n",
    "    def copy(self):\n",
    "        newGame = Game(self.home, self.away)\n",
    "        if self.marked:\n",
    "            newGame.mark(self.date)\n",
    "        return newGame\n",
    "    \n",
    "    def opponent(self, team):\n",
    "        if team == self.home:\n",
    "            return self.away\n",
    "        if team == self.away:\n",
    "            return self.home\n",
    "        return None\n",
    "\n",
    "    \n",
    "class Team:\n",
    "    def __init__(self, name):\n",
    "        self.name = name\n",
    "        self.lastGameDate = dt.datetime.min\n",
    "        self.lastGameLocation = name\n",
    "        self.homeStand = 0\n",
    "        self.roadTrip = 0\n",
    "        self.gamesRemaining = 82\n",
    "        self.gameStreak = 0\n",
    "        \n",
    "    def __repr__(self):\n",
    "        return self.name\n",
    "    \n",
    "    def copy(self):\n",
    "        newTeam = Team(self.name)\n",
    "        newTeam.lastGameDate = self.lastGameDate\n",
    "        newTeam.lastGameLocation = self.lastGameLocation\n",
    "        newTeam.homeStand = self.homeStand\n",
    "        newTeam.roadTrip = self.roadTrip\n",
    "        newTeam.gamesRemaining = self.gamesRemaining\n",
    "        newTeam.gameStreak = self.gameStreak\n",
    "        return newTeam\n",
    "    \n",
    "    def schedule(self, game):\n",
    "        assert self.lastGameDate <= game.date\n",
    "        distance = dist(self.lastGameLocation, game.home)\n",
    "        daysBetween = 3 - min([(game.date - self.lastGameDate).days-1,3])\n",
    "        cost = distance ** (1+(.1*daysBetween))\n",
    "        self.lastGameDate = game.date\n",
    "        self.lastGameLocation = game.home\n",
    "        self.gamesRemaining -= 1\n",
    "        return cost\n",
    "    \n",
    "    def scheduleHome(self, game):\n",
    "        self.homeStand += 1\n",
    "        self.roadTrip = 0\n",
    "        return self.schedule(game)\n",
    "        \n",
    "    def scheduleAway(self, game):\n",
    "        self.roadTrip += 1\n",
    "        self.homeStand = 0\n",
    "        return self.schedule(game)\n",
    "    \n",
    "    def advanceDay(self, date):\n",
    "        if self.lastGameDate == date:\n",
    "            self.gameStreak += 1\n",
    "            return 1\n",
    "        self.gameStreak = 0\n",
    "        return 0\n",
    "    \n",
    "    def valid(self, game, scheduledGames, date):\n",
    "        '''Check which potential games we can schedule that day based on the following criteria:\n",
    "        1. The team can't play twice in a day\n",
    "        2. The team can't play the same team three times within a week\n",
    "        3. Team cannot play a back-to-back-to-back\n",
    "        4. Teams cannot play more than three games in a seven day span\n",
    "        5. Team cannot have a home stand for more than five games\n",
    "        6. Team cannot have a road trip for more than five games\n",
    "        7. Team cannot play the same matchup in a back-to-back'''\n",
    "        # Can't play twice in a day\n",
    "        #print(date)\n",
    "        if date == self.lastGameDate:\n",
    "            #print('INVALID: Already played today')\n",
    "            return False\n",
    "        opponent = game.opponent(self.name)\n",
    "        scheduledGames = [x for x in scheduledGames if x.involves(self.name)]\n",
    "        withinWeek = [scheduledGame.opponent(self.name) == opponent for scheduledGame in scheduledGames if (date - scheduledGame.date).days <=7]\n",
    "        # Don't want the same matchup three times in a week\n",
    "        if sum(withinWeek) >= 2:\n",
    "            #print('INVALID: Same matchup 3 times in a week')\n",
    "            return False\n",
    "        # Don't want three games in a row\n",
    "        withinDays = [scheduledGame for scheduledGame in scheduledGames if (date - scheduledGame.date).days <= 2]\n",
    "        if len(withinDays) >= 2:\n",
    "            #print('INVALID: 3 Games in a Row')\n",
    "            return False\n",
    "        # Don't want more than three games in a five day span\n",
    "        withinDays = [scheduledGame for scheduledGame in scheduledGames if (date - scheduledGame.date).days <= 7]\n",
    "        if len(withinDays) >= 3:\n",
    "            #print('INVALID: Playing more than 3 games in a 7 day span')\n",
    "            return False\n",
    "        # Don't want a home stand extending past 5 games\n",
    "        if game.homeT(self.name) and (self.homeStand >= 5):\n",
    "            #print('INVALID: Homestand over 5 games')\n",
    "            return False\n",
    "        # Don't want a road trip extending past 5 games\n",
    "        if game.awayT(self.name) and (self.roadTrip >= 5):\n",
    "            #print('INVALID: Road Trip over 5 games')\n",
    "            return False\n",
    "        # If no games scheduled forego the back-to-back check\n",
    "        if len(scheduledGames) == 0:\n",
    "            return True\n",
    "        # Make sure there isn't the same matchup back-to-back\n",
    "        recentGame = max(scheduledGames)\n",
    "        return not ((recentGame.home == game.home) and (recentGame.away == game.away))\n",
    "\n",
    "\n",
    "class Schedule:\n",
    "    def __init__(self, toSchedule, scheduled, sznEnd, date, teamObj, mandatory_offs = []):\n",
    "        self.scheduled_games = scheduled\n",
    "        self.unscheduled_games = toSchedule\n",
    "        self.date = date\n",
    "        self.sznEnd = sznEnd\n",
    "        self.teams = teamObj\n",
    "        self.cost = 0\n",
    "        self.mandatory_offdays = mandatory_offs\n",
    "    \n",
    "    def copy(self):\n",
    "        teamCopy = {i: self.teams[i].copy() for i in self.teams.keys()}\n",
    "        unsched = [i.copy() for i in self.unscheduled_games]\n",
    "        sched = [i.copy() for i in self.scheduled_games]\n",
    "        newSched = Schedule(unsched, sched, self.sznEnd, self.date, teamCopy, self.mandatory_offdays)\n",
    "        newSched.cost = self.cost\n",
    "        return newSched\n",
    "        \n",
    "    def markGame(self, game):\n",
    "        '''Returns the cost of marking'''\n",
    "        for gameToSchedule in self.unscheduled_games:\n",
    "            if gameToSchedule == game:\n",
    "                gameToSchedule.mark(self.date)\n",
    "                break\n",
    "        self.scheduled_games += [gameToSchedule]\n",
    "        cost1 = self.teams[game.home].scheduleHome(gameToSchedule)\n",
    "        cost2 = self.teams[game.away].scheduleAway(gameToSchedule)\n",
    "        self.unscheduled_games = [i for i in self.unscheduled_games if not i.marked]\n",
    "        return cost1 + cost2\n",
    "    \n",
    "    def heuristic(self):\n",
    "        locations = {team:{self.teams[team].lastGameLocation} for team in teamAbbrev}\n",
    "        for game in self.unscheduled_games:\n",
    "            for team in game.teams:\n",
    "                locations[team] = locations[team] | {game.home}\n",
    "        h = 0\n",
    "        for game in self.unscheduled_games:\n",
    "            h += min([dist(i, game.home) for i in locations[game.home]])\n",
    "            h += min([dist(i, game.home) for i in locations[game.away]])\n",
    "        return h\n",
    "        \n",
    "    def advanceDay(self):\n",
    "        totalGames = 0\n",
    "        for team in self.teams.values():\n",
    "            totalGames += team.advanceDay(self.date)\n",
    "        self.date += dt.timedelta(days = 1)\n",
    "        return totalGames\n",
    "        \n",
    "    def getSuccessor(self, action):\n",
    "        '''Returns successor state and the cost of it'''\n",
    "        successor = self.copy()\n",
    "        cost = 0\n",
    "        if action == 'ADVANCE DAY':\n",
    "            totalGames = successor.advanceDay()\n",
    "            cost = 1500**(1-(.1*totalGames))\n",
    "        elif action == 'ADVANCE DAY WITH NO PENALTY':\n",
    "            successor.advanceDay()\n",
    "        else:\n",
    "            cost += successor.markGame(action)\n",
    "        successor.cost += cost\n",
    "        return successor\n",
    "        \n",
    "    def getLegalActions(self):\n",
    "        # During Christmas break, schedule no games\n",
    "        if self.date in self.mandatory_offdays:\n",
    "            return ['ADVANCE DAY WITH NO PENALTY']\n",
    "        # If we skip to the point where a 3 in a row needs to be played, terminate the season\n",
    "        daysLeft = (self.sznEnd - self.date).days\n",
    "        for team in self.teams.values():\n",
    "            if daysLeft < ((2*team.gamesRemaining)/3):\n",
    "                return []\n",
    "        bothValid = lambda x: self.teams[x.home].valid(x, self.scheduled_games, self.date) and self.teams[x.away].valid(x, self.scheduled_games, self.date)\n",
    "        validGames = [x for x in self.unscheduled_games if bothValid(x)]\n",
    "        validGames += ['ADVANCE DAY']\n",
    "        return validGames\n",
    "    \n",
    "    def isGoalState(self):\n",
    "        #print(self.unscheduled_games)\n",
    "        return len(self.unscheduled_games) == 0\n",
    "    \n",
    "    def __eq__(self, other):\n",
    "        if not isinstance(other, Schedule):\n",
    "            return False\n",
    "        if len(self.unscheduled_games) != len(other.unscheduled_games):\n",
    "            return False\n",
    "        if self.date != other.date:\n",
    "            return False\n",
    "        for myGame in self.unscheduled_games:\n",
    "            if myGame not in other.unscheduled_games:\n",
    "                return False\n",
    "        return True\n",
    "    \n",
    "    def __lt__(self,other):\n",
    "        if not isinstance(other, Schedule):\n",
    "            return False\n",
    "        return len(self.unscheduled_games) == len(other.unscheduled_games)"
   ]
  },
  {
   "cell_type": "code",
   "execution_count": 17,
   "id": "c59ddc35",
   "metadata": {},
   "outputs": [],
   "source": [
    "gameToObj = lambda x: Game(x['homeTeam']['abbrev'], x['awayTeam']['abbrev'])"
   ]
  },
  {
   "cell_type": "code",
   "execution_count": 18,
   "id": "6562f394",
   "metadata": {},
   "outputs": [],
   "source": [
    "def runSearch(gamesToSchedule, startDate = dt.datetime(2023,10,10), endDate = dt.datetime(2024,4,18), allowedDays = None):\n",
    "    '''Input: \n",
    "    gamesToSchedule- list of Game objects to schedule\n",
    "    startDate- datetime object of the startDate (default = 10/10/2023)\n",
    "    end date- datetime object of the endDate (default = 4/18/2024)\n",
    "    allowedDays- allowedDays (default = None), overrides endDate\n",
    "    Output: Schedule object with optimal ordering'''\n",
    "    if allowedDays is not None:\n",
    "        endDate = startDate + dt.timedelta(days = allowedDays-1)\n",
    "    # Initialize Priority Queue and Team objects\n",
    "    order = PQ()\n",
    "    def makeTeam(abbrev):\n",
    "        tm = Team(abbrev)\n",
    "        tm.gamesRemaining = sum([game.involves(abbrev) for game in gamesToSchedule])\n",
    "        return tm\n",
    "    teams = {team : makeTeam(team) for team in teamAbbrev}\n",
    "    #Add initial state\n",
    "    initial_state = Schedule(gamesToSchedule, [], endDate, startDate, teams)\n",
    "    order.put((0,initial_state))\n",
    "    visited = []\n",
    "    while not order.empty():\n",
    "        state = order.get()[1]\n",
    "        if state in visited:\n",
    "            continue\n",
    "        visited += [state]\n",
    "        #print(f'Scheduled: {state.scheduled_games}')\n",
    "        #print(f\"Game Streak: {state.teams['CAR'].gameStreak}\")\n",
    "        if state.isGoalState():\n",
    "            print('Found Solution')\n",
    "            return state\n",
    "        legalActions = state.getLegalActions()\n",
    "        #print(f'Actions: {legalActions}')\n",
    "        for action in legalActions:\n",
    "            successor= state.getSuccessor(action)\n",
    "            #print(successor.scheduled_games)\n",
    "            p = successor.cost + successor.heuristic()\n",
    "            #print(action, p)\n",
    "            order.put((p, successor))\n",
    "    return 'No Solution'"
   ]
  },
  {
   "cell_type": "code",
   "execution_count": 19,
   "id": "6d87b65d",
   "metadata": {},
   "outputs": [],
   "source": [
    "def timeRandom(n):\n",
    "    randomGames = list(allGames.sample(n = n).apply(gameToObj, axis = 1))\n",
    "    t1 = t()\n",
    "    sol = runSearch(randomGames)\n",
    "    return sol, t() - t1"
   ]
  },
  {
   "cell_type": "code",
   "execution_count": 20,
   "id": "d62e3081",
   "metadata": {},
   "outputs": [],
   "source": [
    "x, y, solutions = [], [], []"
   ]
  },
  {
   "cell_type": "code",
   "execution_count": 21,
   "id": "a4bd88fa",
   "metadata": {
    "scrolled": true
   },
   "outputs": [
    {
     "name": "stdout",
     "output_type": "stream",
     "text": [
      "Found Solution\n",
      "Found Solution\n",
      "Found Solution\n",
      "Found Solution\n",
      "Found Solution\n",
      "Found Solution\n",
      "Found Solution\n",
      "Found Solution\n",
      "Found Solution\n",
      "Found Solution\n",
      "Found Solution\n",
      "Found Solution\n",
      "Found Solution\n",
      "Found Solution\n",
      "Found Solution\n",
      "Found Solution\n",
      "Found Solution\n",
      "Found Solution\n",
      "Found Solution\n",
      "Found Solution\n",
      "Found Solution\n",
      "Found Solution\n",
      "Found Solution\n",
      "Found Solution\n",
      "Found Solution\n",
      "Found Solution\n",
      "Found Solution\n",
      "Found Solution\n",
      "Found Solution\n",
      "Found Solution\n",
      "Found Solution\n",
      "Found Solution\n",
      "Found Solution\n",
      "Found Solution\n",
      "Found Solution\n",
      "Found Solution\n",
      "Found Solution\n",
      "Found Solution\n",
      "Found Solution\n",
      "Found Solution\n",
      "Found Solution\n",
      "Found Solution\n",
      "Found Solution\n",
      "Found Solution\n",
      "Found Solution\n",
      "Found Solution\n",
      "Found Solution\n",
      "Found Solution\n",
      "Found Solution\n",
      "Found Solution\n",
      "Found Solution\n",
      "Found Solution\n",
      "Found Solution\n",
      "Found Solution\n",
      "Found Solution\n",
      "Found Solution\n",
      "Found Solution\n",
      "Found Solution\n",
      "Found Solution\n",
      "Found Solution\n",
      "Found Solution\n",
      "Found Solution\n",
      "Found Solution\n",
      "Found Solution\n",
      "Found Solution\n",
      "Found Solution\n",
      "Found Solution\n",
      "Found Solution\n",
      "Found Solution\n",
      "Found Solution\n",
      "Found Solution\n",
      "Found Solution\n",
      "Found Solution\n",
      "Found Solution\n",
      "Found Solution\n",
      "Found Solution\n",
      "Found Solution\n",
      "Found Solution\n",
      "Found Solution\n",
      "Found Solution\n",
      "Found Solution\n",
      "Found Solution\n",
      "Found Solution\n",
      "Found Solution\n",
      "Found Solution\n",
      "Found Solution\n",
      "Found Solution\n",
      "Found Solution\n",
      "Found Solution\n",
      "Found Solution\n",
      "Found Solution\n",
      "Found Solution\n",
      "Found Solution\n",
      "Found Solution\n",
      "Found Solution\n",
      "Found Solution\n",
      "Found Solution\n",
      "Found Solution\n",
      "Found Solution\n",
      "Found Solution\n",
      "Found Solution\n",
      "Found Solution\n",
      "Found Solution\n",
      "Found Solution\n",
      "Found Solution\n",
      "Found Solution\n",
      "Found Solution\n",
      "Found Solution\n",
      "Found Solution\n",
      "Found Solution\n",
      "Found Solution\n",
      "Found Solution\n",
      "Found Solution\n",
      "Found Solution\n",
      "Found Solution\n",
      "Found Solution\n",
      "Found Solution\n",
      "Found Solution\n",
      "Found Solution\n",
      "Found Solution\n",
      "Found Solution\n",
      "Found Solution\n",
      "Found Solution\n",
      "Found Solution\n",
      "Found Solution\n",
      "Found Solution\n",
      "Found Solution\n",
      "Found Solution\n",
      "Found Solution\n",
      "Found Solution\n",
      "Found Solution\n",
      "Found Solution\n",
      "Found Solution\n",
      "Found Solution\n",
      "Found Solution\n",
      "Found Solution\n",
      "Found Solution\n",
      "Found Solution\n",
      "Found Solution\n",
      "Found Solution\n",
      "Found Solution\n",
      "Found Solution\n",
      "Found Solution\n",
      "Found Solution\n",
      "Found Solution\n",
      "Found Solution\n",
      "Found Solution\n",
      "Found Solution\n",
      "Found Solution\n",
      "Found Solution\n",
      "Found Solution\n",
      "Found Solution\n",
      "Found Solution\n",
      "Found Solution\n",
      "Found Solution\n",
      "Found Solution\n",
      "Found Solution\n",
      "Found Solution\n",
      "Found Solution\n",
      "Found Solution\n",
      "Found Solution\n",
      "Found Solution\n",
      "Found Solution\n",
      "Found Solution\n",
      "Found Solution\n",
      "Found Solution\n",
      "Found Solution\n",
      "Found Solution\n",
      "Found Solution\n",
      "Found Solution\n",
      "Found Solution\n",
      "Found Solution\n",
      "Found Solution\n",
      "Found Solution\n",
      "Found Solution\n",
      "Found Solution\n",
      "Found Solution\n",
      "Found Solution\n",
      "Found Solution\n",
      "Found Solution\n",
      "Found Solution\n",
      "Found Solution\n",
      "Found Solution\n",
      "Found Solution\n",
      "Found Solution\n",
      "Found Solution\n",
      "Found Solution\n",
      "Found Solution\n",
      "Found Solution\n",
      "Found Solution\n",
      "Found Solution\n",
      "Found Solution\n",
      "Found Solution\n",
      "Found Solution\n",
      "Found Solution\n",
      "Found Solution\n",
      "Found Solution\n",
      "Found Solution\n",
      "Found Solution\n",
      "Found Solution\n",
      "Found Solution\n",
      "Found Solution\n",
      "Found Solution\n",
      "Found Solution\n",
      "Found Solution\n",
      "Found Solution\n",
      "Found Solution\n",
      "Found Solution\n",
      "Found Solution\n",
      "Found Solution\n"
     ]
    }
   ],
   "source": [
    "for n in range(1,8):\n",
    "    for rep in range(30):\n",
    "        x += [n]\n",
    "        sol = timeRandom(n)\n",
    "        y += [sol[1]]\n",
    "        solutions += [sol[0]]"
   ]
  },
  {
   "cell_type": "code",
   "execution_count": 22,
   "id": "aa2fafb9",
   "metadata": {},
   "outputs": [],
   "source": [
    "timeData = pd.DataFrame({'n': x, 'n^2':[i**2 for i in x], 'Time (sec)': y})#.groupby('n').mean()"
   ]
  },
  {
   "cell_type": "code",
   "execution_count": 23,
   "id": "189780f2",
   "metadata": {},
   "outputs": [],
   "source": [
    "from sklearn.linear_model import LinearRegression as linreg"
   ]
  },
  {
   "cell_type": "code",
   "execution_count": 24,
   "id": "beb8f1cc",
   "metadata": {},
   "outputs": [],
   "source": [
    "model = linreg(fit_intercept = False)"
   ]
  },
  {
   "cell_type": "code",
   "execution_count": 25,
   "id": "759285bf",
   "metadata": {},
   "outputs": [
    {
     "data": {
      "text/plain": [
       "LinearRegression(fit_intercept=False)"
      ]
     },
     "execution_count": 25,
     "metadata": {},
     "output_type": "execute_result"
    }
   ],
   "source": [
    "model.fit(X = timeData[['n', 'n^2']], y = timeData['Time (sec)'])"
   ]
  },
  {
   "cell_type": "code",
   "execution_count": 26,
   "id": "3f603e6e",
   "metadata": {},
   "outputs": [
    {
     "name": "stderr",
     "output_type": "stream",
     "text": [
      "/Users/gordonliangstud/opt/anaconda3/lib/python3.9/site-packages/seaborn/_decorators.py:36: FutureWarning: Pass the following variables as keyword args: x, y. From version 0.12, the only valid positional argument will be `data`, and passing other arguments without an explicit keyword will result in an error or misinterpretation.\n",
      "  warnings.warn(\n"
     ]
    },
    {
     "data": {
      "text/plain": [
       "Text(0.5, 1.0, 'The Search Algorithm Runs on Exponential Time')"
      ]
     },
     "execution_count": 26,
     "metadata": {},
     "output_type": "execute_result"
    },
    {
     "data": {
      "image/png": "[encoded data removed]",
      "text/plain": [
       "<Figure size 432x288 with 1 Axes>"
      ]
     },
     "metadata": {
      "needs_background": "light"
     },
     "output_type": "display_data"
    }
   ],
   "source": [
    "sns.regplot(x,y, order = 2)\n",
    "# xs = np.linspace(1,7,1000)\n",
    "# plt.plot(xs, model.predict([[i,i**2]for i in xs]))\n",
    "plt.xlabel('# of games searched')\n",
    "plt.ylabel('Time to find Solution (seconds)')\n",
    "plt.title('The Search Algorithm Runs on Exponential Time')"
   ]
  },
  {
   "cell_type": "code",
   "execution_count": 27,
   "id": "2aa44be8",
   "metadata": {},
   "outputs": [
    {
     "name": "stderr",
     "output_type": "stream",
     "text": [
      "/Users/gordonliangstud/opt/anaconda3/lib/python3.9/site-packages/sklearn/base.py:450: UserWarning: X does not have valid feature names, but LinearRegression was fitted with feature names\n",
      "  warnings.warn(\n"
     ]
    },
    {
     "data": {
      "text/plain": [
       "array([627540.05561792])"
      ]
     },
     "execution_count": 27,
     "metadata": {},
     "output_type": "execute_result"
    }
   ],
   "source": [
    "model.predict([[1312, 1312**2]])"
   ]
  },
  {
   "cell_type": "code",
   "execution_count": 28,
   "id": "717c030b",
   "metadata": {},
   "outputs": [
    {
     "data": {
      "text/plain": [
       "25.144544311317016"
      ]
     },
     "execution_count": 28,
     "metadata": {},
     "output_type": "execute_result"
    }
   ],
   "source": [
    "# Around 25 days to search for the optimal NHL schedule\n",
    "2172488.62849779/60/60/24"
   ]
  },
  {
   "cell_type": "code",
   "execution_count": 29,
   "id": "518be927",
   "metadata": {},
   "outputs": [
    {
     "data": {
      "text/plain": [
       "LinearRegression(fit_intercept=False)"
      ]
     },
     "execution_count": 29,
     "metadata": {},
     "output_type": "execute_result"
    }
   ],
   "source": [
    "model = linreg(fit_intercept = False)\n",
    "model.fit(X = [[i,i**2] for i in range(1,8)], y = timeData.groupby('n')['Time (sec)'].mean().values)"
   ]
  },
  {
   "cell_type": "code",
   "execution_count": 30,
   "id": "a0ea6f5c",
   "metadata": {},
   "outputs": [
    {
     "data": {
      "text/plain": [
       "Text(0.5, 1.0, 'The Search Algorithm Runs on Exponential Time')"
      ]
     },
     "execution_count": 30,
     "metadata": {},
     "output_type": "execute_result"
    },
    {
     "data": {
      "image/png": "[encoded data removed]",
      "text/plain": [
       "<Figure size 432x288 with 1 Axes>"
      ]
     },
     "metadata": {
      "needs_background": "light"
     },
     "output_type": "display_data"
    }
   ],
   "source": [
    "plt.scatter(range(1,8),timeData.groupby('n')['Time (sec)'].mean())\n",
    "xs = np.linspace(1,7,1000)\n",
    "plt.plot(xs, model.predict([[i,i**2]for i in xs]))\n",
    "plt.xlabel('# of games searched')\n",
    "plt.ylabel('Mean Time to find Solution (seconds)')\n",
    "plt.title('The Search Algorithm Runs on Exponential Time')"
   ]
  },
  {
   "cell_type": "code",
   "execution_count": 31,
   "id": "f6ae9f25",
   "metadata": {},
   "outputs": [
    {
     "data": {
      "text/plain": [
       "array([627540.05561792])"
      ]
     },
     "execution_count": 31,
     "metadata": {},
     "output_type": "execute_result"
    }
   ],
   "source": [
    "model.predict([[1312, 1312**2]])"
   ]
  },
  {
   "cell_type": "code",
   "execution_count": 32,
   "id": "f414b60e",
   "metadata": {},
   "outputs": [
    {
     "data": {
      "text/plain": [
       "25.144544311317016"
      ]
     },
     "execution_count": 32,
     "metadata": {},
     "output_type": "execute_result"
    }
   ],
   "source": [
    "# Around 25 days to search for the optimal NHL schedule\n",
    "2172488.62849779/60/60/24"
   ]
  },
  {
   "cell_type": "markdown",
   "id": "10a3bba9",
   "metadata": {},
   "source": [
    "# Test Cases"
   ]
  },
  {
   "cell_type": "code",
   "execution_count": 33,
   "id": "b9d9975f",
   "metadata": {},
   "outputs": [
    {
     "data": {
      "text/plain": [
       "'No Solution'"
      ]
     },
     "execution_count": 33,
     "metadata": {},
     "output_type": "execute_result"
    }
   ],
   "source": [
    "# Three games in 2 days should be None\n",
    "runSearch([Game('CAR', 'PHI'), Game('CAR', 'NYR'), Game('NYI', 'CAR')], allowedDays = 2)"
   ]
  },
  {
   "cell_type": "code",
   "execution_count": 34,
   "id": "313a3db2",
   "metadata": {},
   "outputs": [
    {
     "data": {
      "text/plain": [
       "'No Solution'"
      ]
     },
     "execution_count": 34,
     "metadata": {},
     "output_type": "execute_result"
    }
   ],
   "source": [
    "# Three games in 3 days should also be None\n",
    "runSearch([Game('CAR', 'PHI'), Game('CAR', 'NYR'), Game('NYI', 'CAR')], allowedDays = 3)"
   ]
  },
  {
   "cell_type": "code",
   "execution_count": 35,
   "id": "e5380d06",
   "metadata": {},
   "outputs": [
    {
     "data": {
      "text/plain": [
       "'No Solution'"
      ]
     },
     "execution_count": 35,
     "metadata": {},
     "output_type": "execute_result"
    }
   ],
   "source": [
    "# Three games in 4 days should work\n",
    "runSearch([Game('CAR', 'PHI'), Game('CAR', 'NYR'), Game('NYI', 'CAR')], allowedDays = 4)"
   ]
  },
  {
   "cell_type": "code",
   "execution_count": 36,
   "id": "8fd510a6",
   "metadata": {},
   "outputs": [
    {
     "data": {
      "text/plain": [
       "'No Solution'"
      ]
     },
     "execution_count": 36,
     "metadata": {},
     "output_type": "execute_result"
    }
   ],
   "source": [
    "# Four games in 7 days shouldn't work\n",
    "runSearch([Game('CAR', 'PHI'), Game('CAR', 'NYR'), Game('NYI', 'CAR'), Game('ARI', 'CAR')], allowedDays = 7)"
   ]
  },
  {
   "cell_type": "code",
   "execution_count": 37,
   "id": "bb9c803f",
   "metadata": {},
   "outputs": [
    {
     "data": {
      "text/plain": [
       "'No Solution'"
      ]
     },
     "execution_count": 37,
     "metadata": {},
     "output_type": "execute_result"
    }
   ],
   "source": [
    "# More than 5 home games in a row shouldn't work\n",
    "runSearch([Game('CAR',randomTeam('CAR')) for i in range(6)], allowedDays = 14)"
   ]
  },
  {
   "cell_type": "code",
   "execution_count": 38,
   "id": "e4878e6f",
   "metadata": {},
   "outputs": [
    {
     "data": {
      "text/plain": [
       "'No Solution'"
      ]
     },
     "execution_count": 38,
     "metadata": {},
     "output_type": "execute_result"
    }
   ],
   "source": [
    "# More than 5 away games in a row shouldn't work\n",
    "runSearch([Game(randomTeam('CAR'), 'CAR') for i in range(6)], allowedDays = 14)"
   ]
  },
  {
   "cell_type": "code",
   "execution_count": 39,
   "id": "85820340",
   "metadata": {},
   "outputs": [
    {
     "name": "stdout",
     "output_type": "stream",
     "text": [
      "[CAR @ SJS, CAR @ FLA, CAR @ NSH, NYI @ CAR, PHI @ CAR, WPG @ CAR]\n",
      "Found Solution\n",
      "NYI @ CAR:2023-10-10 00:00:00\n",
      "PHI @ CAR:2023-10-11 00:00:00\n",
      "WPG @ CAR:2023-10-13 00:00:00\n",
      "CAR @ FLA:2023-10-18 00:00:00\n",
      "CAR @ SJS:2023-10-21 00:00:00\n",
      "CAR @ NSH:2023-10-22 00:00:00\n"
     ]
    }
   ],
   "source": [
    "# 6 Games in 14 days should work\n",
    "tstGames = [Game(randomTeam('CAR'), 'CAR') for i in range(3)] + [Game('CAR', randomTeam('CAR')) for i in range(3)]\n",
    "print(tstGames)\n",
    "sched = runSearch(tstGames, allowedDays = 14)\n",
    "for i in sched.scheduled_games:\n",
    "    print(f'{i}:{i.date}')"
   ]
  },
  {
   "cell_type": "code",
   "execution_count": 40,
   "id": "9c8c39e9",
   "metadata": {},
   "outputs": [
    {
     "data": {
      "text/plain": [
       "'No Solution'"
      ]
     },
     "execution_count": 40,
     "metadata": {},
     "output_type": "execute_result"
    }
   ],
   "source": [
    "# No back to back same matchups\n",
    "runSearch([Game('CAR', 'NYR'), Game('CAR', 'NYR')], allowedDays = 3)"
   ]
  },
  {
   "cell_type": "code",
   "execution_count": null,
   "id": "97564fc2",
   "metadata": {},
   "outputs": [],
   "source": []
  }
 ],
 "metadata": {
  "kernelspec": {
   "display_name": "Python 3 (ipykernel)",
   "language": "python",
   "name": "python3"
  },
  "language_info": {
   "codemirror_mode": {
    "name": "ipython",
    "version": 3
   },
   "file_extension": ".py",
   "mimetype": "text/x-python",
   "name": "python",
   "nbconvert_exporter": "python",
   "pygments_lexer": "ipython3",
   "version": "3.9.12"
  }
 },
 "nbformat": 4,
 "nbformat_minor": 5
}
