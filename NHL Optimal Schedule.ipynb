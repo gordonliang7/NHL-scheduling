{
 "cells": [
  {
   "cell_type": "code",
   "execution_count": 1,
   "id": "0355b363",
   "metadata": {},
   "outputs": [],
   "source": [
    "# Import relevant modules\n",
    "import numpy as np\n",
    "import pandas as pd\n",
    "import datetime as dt\n",
    "from queue import PriorityQueue as PQ\n",
    "from geopy import distance\n",
    "from time import time as t\n",
    "import matplotlib.pyplot as plt\n",
    "import seaborn as sns\n",
    "\n",
    "plt.rcParams['figure.facecolor'] = 'white'\n",
    "plt.rcParams['axes.facecolor'] = 'white'"
   ]
  },
  {
   "cell_type": "code",
   "execution_count": 2,
   "id": "2d9017a5",
   "metadata": {},
   "outputs": [
    {
     "data": {
      "text/html": [
       "<div>\n",
       "<style scoped>\n",
       "    .dataframe tbody tr th:only-of-type {\n",
       "        vertical-align: middle;\n",
       "    }\n",
       "\n",
       "    .dataframe tbody tr th {\n",
       "        vertical-align: top;\n",
       "    }\n",
       "\n",
       "    .dataframe thead th {\n",
       "        text-align: right;\n",
       "    }\n",
       "</style>\n",
       "<table border=\"1\" class=\"dataframe\">\n",
       "  <thead>\n",
       "    <tr style=\"text-align: right;\">\n",
       "      <th></th>\n",
       "      <th>Team</th>\n",
       "      <th>Stadium</th>\n",
       "      <th>Longitude</th>\n",
       "      <th>Latitude</th>\n",
       "    </tr>\n",
       "    <tr>\n",
       "      <th>teamAbbrev</th>\n",
       "      <th></th>\n",
       "      <th></th>\n",
       "      <th></th>\n",
       "      <th></th>\n",
       "    </tr>\n",
       "  </thead>\n",
       "  <tbody>\n",
       "    <tr>\n",
       "      <th>ANA</th>\n",
       "      <td>Anaheim Ducks</td>\n",
       "      <td>Honda Center</td>\n",
       "      <td>-117.8763</td>\n",
       "      <td>33.8075</td>\n",
       "    </tr>\n",
       "    <tr>\n",
       "      <th>ARI</th>\n",
       "      <td>Arizona Coyotes</td>\n",
       "      <td>Gila River Arena</td>\n",
       "      <td>-112.1886</td>\n",
       "      <td>33.5317</td>\n",
       "    </tr>\n",
       "    <tr>\n",
       "      <th>BOS</th>\n",
       "      <td>Boston Bruins</td>\n",
       "      <td>TD Garden</td>\n",
       "      <td>-71.0621</td>\n",
       "      <td>42.3662</td>\n",
       "    </tr>\n",
       "    <tr>\n",
       "      <th>BUF</th>\n",
       "      <td>Buffalo Sabres</td>\n",
       "      <td>KeyBank Center</td>\n",
       "      <td>-78.8756</td>\n",
       "      <td>42.8750</td>\n",
       "    </tr>\n",
       "    <tr>\n",
       "      <th>CGY</th>\n",
       "      <td>Calgary Flames</td>\n",
       "      <td>Scotiabank Saddledome</td>\n",
       "      <td>-114.0555</td>\n",
       "      <td>51.0374</td>\n",
       "    </tr>\n",
       "  </tbody>\n",
       "</table>\n",
       "</div>"
      ],
      "text/plain": [
       "                       Team                Stadium  Longitude  Latitude\n",
       "teamAbbrev                                                             \n",
       "ANA           Anaheim Ducks           Honda Center  -117.8763   33.8075\n",
       "ARI         Arizona Coyotes       Gila River Arena  -112.1886   33.5317\n",
       "BOS           Boston Bruins              TD Garden   -71.0621   42.3662\n",
       "BUF          Buffalo Sabres         KeyBank Center   -78.8756   42.8750\n",
       "CGY          Calgary Flames  Scotiabank Saddledome  -114.0555   51.0374"
      ]
     },
     "execution_count": 2,
     "metadata": {},
     "output_type": "execute_result"
    }
   ],
   "source": [
    "# Load Stadium information (from Chat GPT) and get team abbreviations \n",
    "stadiums = pd.read_csv('NHL Stadium Locations.csv')\n",
    "teamAbbrev = list(stadiums['teamAbbrev'])\n",
    "stadiums = stadiums.set_index('teamAbbrev')\n",
    "stadiums.head()"
   ]
  },
  {
   "cell_type": "code",
   "execution_count": 3,
   "id": "bc6e0d09",
   "metadata": {},
   "outputs": [
    {
     "data": {
      "text/html": [
       "<div>\n",
       "<style scoped>\n",
       "    .dataframe tbody tr th:only-of-type {\n",
       "        vertical-align: middle;\n",
       "    }\n",
       "\n",
       "    .dataframe tbody tr th {\n",
       "        vertical-align: top;\n",
       "    }\n",
       "\n",
       "    .dataframe thead th {\n",
       "        text-align: right;\n",
       "    }\n",
       "</style>\n",
       "<table border=\"1\" class=\"dataframe\">\n",
       "  <thead>\n",
       "    <tr style=\"text-align: right;\">\n",
       "      <th></th>\n",
       "      <th>homeTeam</th>\n",
       "      <th>awayTeam</th>\n",
       "    </tr>\n",
       "  </thead>\n",
       "  <tbody>\n",
       "    <tr>\n",
       "      <th>0</th>\n",
       "      <td>{'id': 54, 'placeName': {'default': 'Vegas'}, ...</td>\n",
       "      <td>{'id': 24, 'placeName': {'default': 'Anaheim'}...</td>\n",
       "    </tr>\n",
       "    <tr>\n",
       "      <th>1</th>\n",
       "      <td>{'id': 24, 'placeName': {'default': 'Anaheim'}...</td>\n",
       "      <td>{'id': 12, 'placeName': {'default': 'Carolina'...</td>\n",
       "    </tr>\n",
       "    <tr>\n",
       "      <th>2</th>\n",
       "      <td>{'id': 24, 'placeName': {'default': 'Anaheim'}...</td>\n",
       "      <td>{'id': 25, 'placeName': {'default': 'Dallas'},...</td>\n",
       "    </tr>\n",
       "    <tr>\n",
       "      <th>3</th>\n",
       "      <td>{'id': 53, 'placeName': {'default': 'Arizona'}...</td>\n",
       "      <td>{'id': 24, 'placeName': {'default': 'Anaheim'}...</td>\n",
       "    </tr>\n",
       "    <tr>\n",
       "      <th>4</th>\n",
       "      <td>{'id': 24, 'placeName': {'default': 'Anaheim'}...</td>\n",
       "      <td>{'id': 6, 'placeName': {'default': 'Boston'}, ...</td>\n",
       "    </tr>\n",
       "  </tbody>\n",
       "</table>\n",
       "</div>"
      ],
      "text/plain": [
       "                                            homeTeam  \\\n",
       "0  {'id': 54, 'placeName': {'default': 'Vegas'}, ...   \n",
       "1  {'id': 24, 'placeName': {'default': 'Anaheim'}...   \n",
       "2  {'id': 24, 'placeName': {'default': 'Anaheim'}...   \n",
       "3  {'id': 53, 'placeName': {'default': 'Arizona'}...   \n",
       "4  {'id': 24, 'placeName': {'default': 'Anaheim'}...   \n",
       "\n",
       "                                            awayTeam  \n",
       "0  {'id': 24, 'placeName': {'default': 'Anaheim'}...  \n",
       "1  {'id': 12, 'placeName': {'default': 'Carolina'...  \n",
       "2  {'id': 25, 'placeName': {'default': 'Dallas'},...  \n",
       "3  {'id': 24, 'placeName': {'default': 'Anaheim'}...  \n",
       "4  {'id': 6, 'placeName': {'default': 'Boston'}, ...  "
      ]
     },
     "execution_count": 3,
     "metadata": {},
     "output_type": "execute_result"
    }
   ],
   "source": [
    "# Load all games from the 2023-24 NHL Season (from NHL API... i love you NHL for setting up an API)\n",
    "allGames = pd.read_csv('2023-24 NHL Scheduled Games.csv')\n",
    "# Pandas doesn't load dictionaries in csv's so eval the strings\n",
    "allGames['awayTeam'] = [eval(i) for i in allGames['awayTeam']]\n",
    "allGames['homeTeam'] = [eval(i) for i in allGames['homeTeam']]\n",
    "allGames.head()"
   ]
  },
  {
   "cell_type": "code",
   "execution_count": 4,
   "id": "547691bf",
   "metadata": {},
   "outputs": [],
   "source": [
    "# Used for translating team abbreviation to their NHL id\n",
    "teamId = {row['abbrev']:row['id'] for row in allGames['awayTeam']}"
   ]
  },
  {
   "cell_type": "code",
   "execution_count": 5,
   "id": "e90c95b4",
   "metadata": {},
   "outputs": [],
   "source": [
    "teamToId = lambda team: teamId[team]"
   ]
  },
  {
   "cell_type": "code",
   "execution_count": 6,
   "id": "d60e9843",
   "metadata": {},
   "outputs": [],
   "source": [
    "def dist(team1, team2):\n",
    "    if (team1 is None) or (team2 is None):\n",
    "        return 0\n",
    "    loc1 = stadiums.loc[team1]\n",
    "    loc2 = stadiums.loc[team2]\n",
    "    coord1 = (loc1['Latitude'], loc1['Longitude'])\n",
    "    coord2 = (loc2['Latitude'], loc2['Longitude'])\n",
    "    return distance.distance(coord1, coord2).miles"
   ]
  },
  {
   "cell_type": "code",
   "execution_count": 7,
   "id": "41c28a1c",
   "metadata": {},
   "outputs": [],
   "source": [
    "def randomTeam(*notThis):\n",
    "    return np.random.choice([i for i in teamAbbrev if i not in notThis])"
   ]
  },
  {
   "cell_type": "code",
   "execution_count": 8,
   "id": "abde84bd",
   "metadata": {},
   "outputs": [],
   "source": [
    "ref = stadiums.reset_index()"
   ]
  },
  {
   "cell_type": "code",
   "execution_count": 9,
   "id": "8500a89b",
   "metadata": {},
   "outputs": [],
   "source": [
    "data = []\n",
    "for loc1 in range(32):\n",
    "    for loc2 in range(loc1+1, 32):\n",
    "        location1 = ref.iloc[loc1]['teamAbbrev']\n",
    "        location2 = ref.iloc[loc2]['teamAbbrev']\n",
    "        data += [{'From': location1,\n",
    "                 'To': location2,\n",
    "                 'Distance': dist(location1, location2)}]"
   ]
  },
  {
   "cell_type": "code",
   "execution_count": 10,
   "id": "06f235c8",
   "metadata": {},
   "outputs": [],
   "source": [
    "ref = pd.DataFrame(data)"
   ]
  },
  {
   "cell_type": "code",
   "execution_count": 11,
   "id": "4bf3282e",
   "metadata": {},
   "outputs": [
    {
     "data": {
      "text/html": [
       "<div>\n",
       "<style scoped>\n",
       "    .dataframe tbody tr th:only-of-type {\n",
       "        vertical-align: middle;\n",
       "    }\n",
       "\n",
       "    .dataframe tbody tr th {\n",
       "        vertical-align: top;\n",
       "    }\n",
       "\n",
       "    .dataframe thead th {\n",
       "        text-align: right;\n",
       "    }\n",
       "</style>\n",
       "<table border=\"1\" class=\"dataframe\">\n",
       "  <thead>\n",
       "    <tr style=\"text-align: right;\">\n",
       "      <th></th>\n",
       "      <th>From</th>\n",
       "      <th>To</th>\n",
       "      <th>Distance</th>\n",
       "    </tr>\n",
       "  </thead>\n",
       "  <tbody>\n",
       "    <tr>\n",
       "      <th>321</th>\n",
       "      <td>FLA</td>\n",
       "      <td>VAN</td>\n",
       "      <td>2779.811586</td>\n",
       "    </tr>\n",
       "    <tr>\n",
       "      <th>317</th>\n",
       "      <td>FLA</td>\n",
       "      <td>SEA</td>\n",
       "      <td>2710.576434</td>\n",
       "    </tr>\n",
       "    <tr>\n",
       "      <th>81</th>\n",
       "      <td>BOS</td>\n",
       "      <td>SJS</td>\n",
       "      <td>2685.340019</td>\n",
       "    </tr>\n",
       "    <tr>\n",
       "      <th>71</th>\n",
       "      <td>BOS</td>\n",
       "      <td>LAK</td>\n",
       "      <td>2597.870474</td>\n",
       "    </tr>\n",
       "    <tr>\n",
       "      <th>482</th>\n",
       "      <td>TBL</td>\n",
       "      <td>VAN</td>\n",
       "      <td>2596.936061</td>\n",
       "    </tr>\n",
       "  </tbody>\n",
       "</table>\n",
       "</div>"
      ],
      "text/plain": [
       "    From   To     Distance\n",
       "321  FLA  VAN  2779.811586\n",
       "317  FLA  SEA  2710.576434\n",
       "81   BOS  SJS  2685.340019\n",
       "71   BOS  LAK  2597.870474\n",
       "482  TBL  VAN  2596.936061"
      ]
     },
     "execution_count": 11,
     "metadata": {},
     "output_type": "execute_result"
    }
   ],
   "source": [
    "ref.sort_values('Distance', ascending = False).head()"
   ]
  },
  {
   "cell_type": "code",
   "execution_count": 12,
   "id": "9a1304f0",
   "metadata": {},
   "outputs": [],
   "source": [
    "# Define classes needed to run the search\n",
    "class Game:\n",
    "    def __init__(self, home, away):\n",
    "        self.home = home\n",
    "        self.away = away\n",
    "        self.teams = (home, away)\n",
    "        self.marked = False\n",
    "        self.hash = 100*teamToId(away) + teamToId(home)\n",
    "    \n",
    "    def mark(self, date):\n",
    "        self.date = date\n",
    "        self.hash += 100000*(date.day+(100*date.month)+(10000*date.year)) + 10000\n",
    "        self.marked = True\n",
    "        \n",
    "    def homeT(self, team):\n",
    "        return self.home == team\n",
    "    \n",
    "    def awayT(self, team):\n",
    "        return self.away == team\n",
    "        \n",
    "    def involves(self, team):\n",
    "        return (self.home == team) or (self.away == team)\n",
    "    \n",
    "    def __repr__(self):\n",
    "        return f'{self.away} @ {self.home}'\n",
    "    \n",
    "    def __eq__(self, other):\n",
    "        if not isinstance(other, Game):\n",
    "            return False\n",
    "        return self.hash == other.hash\n",
    "    \n",
    "    def __lt__(self, other):\n",
    "        if not isinstance(other, Game):\n",
    "            return False\n",
    "        return self.hash < other.hash\n",
    "    \n",
    "    def __gt__(self, other):\n",
    "        if not isinstance(other, Game):\n",
    "            return False\n",
    "        return self.hash > other.hash\n",
    "    \n",
    "    def copy(self):\n",
    "        newGame = Game(self.home, self.away)\n",
    "        if self.marked:\n",
    "            newGame.mark(self.date)\n",
    "        return newGame\n",
    "    \n",
    "    def opponent(self, team):\n",
    "        if team == self.home:\n",
    "            return self.away\n",
    "        if team == self.away:\n",
    "            return self.home\n",
    "        return None\n",
    "    \n",
    "    def __hash__(self):\n",
    "        return self.hash\n",
    "\n",
    "    \n",
    "class Team:\n",
    "    def __init__(self, name):\n",
    "        self.name = name\n",
    "        self.lastGameDate = dt.date.min\n",
    "        self.lastGameLocation = name\n",
    "        self.homeStand = 0\n",
    "        self.roadTrip = 0\n",
    "        self.gamesRemaining = 82\n",
    "        self.gameStreak = 0\n",
    "        \n",
    "    def __repr__(self):\n",
    "        return self.name\n",
    "    \n",
    "    def copy(self):\n",
    "        newTeam = Team(self.name)\n",
    "        newTeam.lastGameDate = self.lastGameDate\n",
    "        newTeam.lastGameLocation = self.lastGameLocation\n",
    "        newTeam.homeStand = self.homeStand\n",
    "        newTeam.roadTrip = self.roadTrip\n",
    "        newTeam.gamesRemaining = self.gamesRemaining\n",
    "        newTeam.gameStreak = self.gameStreak\n",
    "        return newTeam\n",
    "    \n",
    "    def schedule(self, game):\n",
    "        assert self.lastGameDate <= game.date\n",
    "        distance = dist(self.lastGameLocation, game.home)\n",
    "        daysBetween = 3 - min([(game.date - self.lastGameDate).days-1,3])\n",
    "        cost = distance ** (1+(.1*daysBetween))\n",
    "        self.lastGameDate = game.date\n",
    "        self.lastGameLocation = game.home\n",
    "        self.gamesRemaining -= 1\n",
    "        return cost\n",
    "    \n",
    "    def scheduleHome(self, game):\n",
    "        self.homeStand += 1\n",
    "        self.roadTrip = 0\n",
    "        return self.schedule(game)\n",
    "        \n",
    "    def scheduleAway(self, game):\n",
    "        self.roadTrip += 1\n",
    "        self.homeStand = 0\n",
    "        return self.schedule(game)\n",
    "    \n",
    "    def advanceDay(self, date):\n",
    "        if self.lastGameDate == date:\n",
    "            self.gameStreak += 1\n",
    "            return 1\n",
    "        self.gameStreak = 0\n",
    "        return 0\n",
    "    \n",
    "    def valid(self, game, scheduledGames, date):\n",
    "        '''Check which potential games we can schedule that day based on the following criteria:\n",
    "        1. The team can't play twice in a day\n",
    "        2. The team can't play the same team three times within a week\n",
    "        3. Team cannot play a back-to-back-to-back\n",
    "        4. Teams cannot play more than three games in a seven day span\n",
    "        5. Team cannot have a home stand for more than five games\n",
    "        6. Team cannot have a road trip for more than five games\n",
    "        7. Team cannot play the same matchup in a back-to-back'''\n",
    "        # Can't play twice in a day\n",
    "        #print(date)\n",
    "        if date == self.lastGameDate:\n",
    "            #print('INVALID: Already played today')\n",
    "            return False\n",
    "        opponent = game.opponent(self.name)\n",
    "        scheduledGames = [x for x in scheduledGames if x.involves(self.name)]\n",
    "        withinWeek = [scheduledGame.opponent(self.name) == opponent for scheduledGame in scheduledGames if (date - scheduledGame.date).days <=7]\n",
    "        # Don't want the same matchup three times in a week\n",
    "        if sum(withinWeek) >= 2:\n",
    "            #print('INVALID: Same matchup 3 times in a week')\n",
    "            return False\n",
    "        # Don't want three games in a row\n",
    "        withinDays = [scheduledGame for scheduledGame in scheduledGames if (date - scheduledGame.date).days <= 2]\n",
    "        if len(withinDays) >= 2:\n",
    "            #print('INVALID: 3 Games in a Row')\n",
    "            return False\n",
    "        # Don't want more than three games in a five day span\n",
    "        withinDays = [scheduledGame for scheduledGame in scheduledGames if (date - scheduledGame.date).days <= 7]\n",
    "        if len(withinDays) >= 3:\n",
    "            #print('INVALID: Playing more than 3 games in a 7 day span')\n",
    "            return False\n",
    "        # Don't want a home stand extending past 5 games\n",
    "        if game.homeT(self.name) and (self.homeStand >= 5):\n",
    "            #print('INVALID: Homestand over 5 games')\n",
    "            return False\n",
    "        # Don't want a road trip extending past 5 games\n",
    "        if game.awayT(self.name) and (self.roadTrip >= 5):\n",
    "            #print('INVALID: Road Trip over 5 games')\n",
    "            return False\n",
    "        # If no games scheduled forego the back-to-back check\n",
    "        if len(scheduledGames) == 0:\n",
    "            return True\n",
    "        # Make sure there isn't the same matchup back-to-back\n",
    "        recentGame = max(scheduledGames)\n",
    "        return not ((recentGame.home == game.home) and (recentGame.away == game.away))\n",
    "\n",
    "\n",
    "class Schedule:\n",
    "    def __init__(self, toSchedule, scheduled, sznEnd, date, teamObj, mandatory_offs = []):\n",
    "        self.scheduled_games = scheduled\n",
    "        self.unscheduled_games = toSchedule\n",
    "        self.date = date\n",
    "        self.sznEnd = sznEnd\n",
    "        self.teams = teamObj\n",
    "        self.cost = 0\n",
    "        self.mandatory_offdays = mandatory_offs\n",
    "    \n",
    "    def copy(self):\n",
    "        teamCopy = {i: self.teams[i].copy() for i in self.teams.keys()}\n",
    "        unsched = [i.copy() for i in self.unscheduled_games]\n",
    "        sched = [i.copy() for i in self.scheduled_games]\n",
    "        newSched = Schedule(unsched, sched, self.sznEnd, self.date, teamCopy, self.mandatory_offdays)\n",
    "        newSched.cost = self.cost\n",
    "        return newSched\n",
    "        \n",
    "    def markGame(self, game):\n",
    "        '''Returns the cost of marking'''\n",
    "        for gameToSchedule in self.unscheduled_games:\n",
    "            if gameToSchedule == game:\n",
    "                gameToSchedule.mark(self.date)\n",
    "                break\n",
    "        self.scheduled_games += [gameToSchedule]\n",
    "        self.scheduled_games = sorted(self.scheduled_games)\n",
    "        cost1 = self.teams[game.home].scheduleHome(gameToSchedule)\n",
    "        cost2 = self.teams[game.away].scheduleAway(gameToSchedule)\n",
    "        self.unscheduled_games = sorted([i for i in self.unscheduled_games if not i.marked])\n",
    "        return cost1 + cost2\n",
    "    \n",
    "    def heuristic(self):\n",
    "        locations = {team:{self.teams[team].lastGameLocation} for team in teamAbbrev}\n",
    "        for game in self.unscheduled_games:\n",
    "            for team in game.teams:\n",
    "                locations[team] = locations[team] | {game.home}\n",
    "        h = 0\n",
    "        for game in self.unscheduled_games:\n",
    "            h += min([dist(i, game.home) for i in locations[game.home]])\n",
    "            h += min([dist(i, game.home) for i in locations[game.away]])\n",
    "        return h\n",
    "        \n",
    "    def advanceDay(self):\n",
    "        totalGames = 0\n",
    "        for team in self.teams.values():\n",
    "            totalGames += team.advanceDay(self.date)\n",
    "        self.date += dt.timedelta(days = 1)\n",
    "        return totalGames\n",
    "        \n",
    "    def getSuccessor(self, action):\n",
    "        '''Returns successor state and the cost of it'''\n",
    "        successor = self.copy()\n",
    "        cost = 0\n",
    "        if action == 'ADVANCE DAY':\n",
    "            totalGames = successor.advanceDay()\n",
    "            cost = 1500**(1-(.1*totalGames))\n",
    "        elif action == 'ADVANCE DAY WITH NO PENALTY':\n",
    "            successor.advanceDay()\n",
    "        else:\n",
    "            cost += successor.markGame(action)\n",
    "        successor.cost += cost\n",
    "        return successor\n",
    "        \n",
    "    def getLegalActions(self):\n",
    "        # During Christmas break, schedule no games\n",
    "        if self.date in self.mandatory_offdays:\n",
    "            return ['ADVANCE DAY WITH NO PENALTY']\n",
    "        # If we skip to the point where a 3 in a row needs to be played, terminate the season\n",
    "        daysLeft = (self.sznEnd - self.date).days\n",
    "        for team in self.teams.values():\n",
    "            if (daysLeft-4) < (7*(team.gamesRemaining-3)/3): \n",
    "                return []\n",
    "        bothValid = lambda x: self.teams[x.home].valid(x, self.scheduled_games, self.date) and self.teams[x.away].valid(x, self.scheduled_games, self.date)\n",
    "        validGames = [x for x in set(self.unscheduled_games) if bothValid(x)]\n",
    "        validGames += ['ADVANCE DAY']\n",
    "        return validGames\n",
    "    \n",
    "    def isGoalState(self):\n",
    "        #print(self.unscheduled_games)\n",
    "        return len(self.unscheduled_games) == 0\n",
    "    \n",
    "    def __eq__(self, other):\n",
    "        if not isinstance(other, Schedule):\n",
    "            return False\n",
    "        if len(self.unscheduled_games) != len(other.unscheduled_games):\n",
    "            return False\n",
    "        if self.date != other.date:\n",
    "            return False\n",
    "        if self.scheduled_games != other.scheduled_games:\n",
    "            return False\n",
    "        return True\n",
    "    \n",
    "    def __lt__(self,other):\n",
    "        if not isinstance(other, Schedule):\n",
    "            return False\n",
    "        return len(self.unscheduled_games) == len(other.unscheduled_games)\n",
    "    \n",
    "    def __str__(self):\n",
    "        string = ''\n",
    "        for game in self.scheduled_games:\n",
    "            string += f'{game.date}: {game}\\n'\n",
    "        return string\n",
    "    \n",
    "class bookmark:\n",
    "    # More efficient searching for visited states\n",
    "    def __init__(self):\n",
    "        self.storage = {}\n",
    "    \n",
    "    def visit(self, sched):\n",
    "        numScheduled = len(sched.scheduled_games)\n",
    "        if numScheduled not in self.storage:\n",
    "            self.storage[numScheduled] = []\n",
    "        visited = sched in self.storage[numScheduled]\n",
    "        if not visited:\n",
    "            self.storage[numScheduled] = self.storage[numScheduled] + [sched]\n",
    "        return visited"
   ]
  },
  {
   "cell_type": "code",
   "execution_count": 13,
   "id": "c59ddc35",
   "metadata": {},
   "outputs": [],
   "source": [
    "gameToObj = lambda x: Game(x['homeTeam']['abbrev'], x['awayTeam']['abbrev'])"
   ]
  },
  {
   "cell_type": "code",
   "execution_count": 14,
   "id": "6562f394",
   "metadata": {},
   "outputs": [],
   "source": [
    "def runSearch(gamesToSchedule, startDate = dt.date(2023,10,10), endDate = dt.date(2024,4,18), allowedDays = None):\n",
    "    '''Input: \n",
    "    gamesToSchedule- list of Game objects to schedule\n",
    "    startDate- date object of the startDate (default = 10/10/2023)\n",
    "    end date- date object of the endDate (default = 4/18/2024)\n",
    "    allowedDays- allowedDays (default = None), overrides endDate\n",
    "    Output: Schedule object with optimal ordering'''\n",
    "    if allowedDays is not None:\n",
    "        endDate = startDate + dt.timedelta(days = allowedDays - 1)\n",
    "    # Initialize Priority Queue and Team objects\n",
    "    order = PQ()\n",
    "    def makeTeam(abbrev):\n",
    "        tm = Team(abbrev)\n",
    "        tm.gamesRemaining = sum([game.involves(abbrev) for game in gamesToSchedule])\n",
    "        return tm\n",
    "    teams = {team : makeTeam(team) for team in teamAbbrev}\n",
    "    #Add initial state\n",
    "    initial_state = Schedule(gamesToSchedule, [], endDate, startDate, teams)\n",
    "    order.put((0,initial_state))\n",
    "    visited = bookmark()\n",
    "    while not order.empty():\n",
    "        state = order.get()[1]\n",
    "        if visited.visit(state):\n",
    "            continue\n",
    "        #print(f'Scheduled: {state.scheduled_games}')\n",
    "        #print(f\"Game Streak: {state.teams['CAR'].roadTrip}\")\n",
    "        if state.isGoalState():\n",
    "            print('Found Solution')\n",
    "            return state\n",
    "        legalActions = state.getLegalActions()\n",
    "        for action in legalActions:\n",
    "            successor= state.getSuccessor(action)\n",
    "            p = successor.cost + successor.heuristic()\n",
    "            #print(action, p)\n",
    "            order.put((p, successor))\n",
    "    return 'No Solution'"
   ]
  },
  {
   "cell_type": "markdown",
   "id": "10a3bba9",
   "metadata": {},
   "source": [
    "# Test Cases"
   ]
  },
  {
   "cell_type": "code",
   "execution_count": 15,
   "id": "b9d9975f",
   "metadata": {},
   "outputs": [
    {
     "data": {
      "text/plain": [
       "'No Solution'"
      ]
     },
     "execution_count": 15,
     "metadata": {},
     "output_type": "execute_result"
    }
   ],
   "source": [
    "# Three games in 2 days should be None\n",
    "runSearch([Game('CAR', 'PHI'), Game('CAR', 'NYR'), Game('NYI', 'CAR')], allowedDays = 2)"
   ]
  },
  {
   "cell_type": "code",
   "execution_count": 16,
   "id": "313a3db2",
   "metadata": {},
   "outputs": [
    {
     "name": "stdout",
     "output_type": "stream",
     "text": [
      "No Solution\n"
     ]
    }
   ],
   "source": [
    "# Three games in 3 days should also be None\n",
    "print(runSearch([Game('CAR', 'PHI'), Game('CAR', 'NYR'), Game('NYI', 'CAR')], allowedDays = 3))"
   ]
  },
  {
   "cell_type": "code",
   "execution_count": 17,
   "id": "e5380d06",
   "metadata": {},
   "outputs": [
    {
     "name": "stdout",
     "output_type": "stream",
     "text": [
      "No Solution\n"
     ]
    }
   ],
   "source": [
    "# Three games in 4 days should work\n",
    "sched = runSearch([Game('CAR', 'PHI'), Game('CAR', 'NYR'), Game('NYI', 'CAR')], allowedDays = 4)\n",
    "print(sched)"
   ]
  },
  {
   "cell_type": "code",
   "execution_count": 18,
   "id": "8fd510a6",
   "metadata": {},
   "outputs": [
    {
     "data": {
      "text/plain": [
       "'No Solution'"
      ]
     },
     "execution_count": 18,
     "metadata": {},
     "output_type": "execute_result"
    }
   ],
   "source": [
    "# Four games in 7 days shouldn't work\n",
    "runSearch([Game('CAR', 'PHI'), Game('CAR', 'NYR'), Game('NYI', 'CAR'), Game('ARI', 'CAR')], allowedDays = 7)"
   ]
  },
  {
   "cell_type": "code",
   "execution_count": 19,
   "id": "bb9c803f",
   "metadata": {},
   "outputs": [
    {
     "data": {
      "text/plain": [
       "'No Solution'"
      ]
     },
     "execution_count": 19,
     "metadata": {},
     "output_type": "execute_result"
    }
   ],
   "source": [
    "# More than 5 home games in a row shouldn't work\n",
    "runSearch([Game('CAR',randomTeam('CAR')) for i in range(6)], allowedDays = 14)"
   ]
  },
  {
   "cell_type": "code",
   "execution_count": 20,
   "id": "e4878e6f",
   "metadata": {},
   "outputs": [
    {
     "data": {
      "text/plain": [
       "'No Solution'"
      ]
     },
     "execution_count": 20,
     "metadata": {},
     "output_type": "execute_result"
    }
   ],
   "source": [
    "# More than 5 away games in a row shouldn't work\n",
    "runSearch([Game(randomTeam('CAR'), 'CAR') for i in range(6)], allowedDays = 14)"
   ]
  },
  {
   "cell_type": "code",
   "execution_count": 21,
   "id": "85820340",
   "metadata": {},
   "outputs": [
    {
     "name": "stdout",
     "output_type": "stream",
     "text": [
      "[CAR @ CHI, CAR @ TBL, CAR @ SJS, OTT @ CAR, PHI @ CAR, ARI @ CAR]\n",
      "Found Solution\n",
      "OTT @ CAR:2023-10-10\n",
      "ARI @ CAR:2023-10-11\n",
      "CAR @ TBL:2023-10-15\n",
      "PHI @ CAR:2023-10-18\n",
      "CAR @ CHI:2023-10-20\n",
      "CAR @ SJS:2023-10-23\n"
     ]
    }
   ],
   "source": [
    "# 6 Games in 14 days should work\n",
    "tstGames = [Game(randomTeam('CAR'), 'CAR') for i in range(3)] + [Game('CAR', randomTeam('CAR')) for i in range(3)]\n",
    "print(tstGames)\n",
    "sched = runSearch(tstGames, allowedDays = 14)\n",
    "for i in sched.scheduled_games:\n",
    "    print(f'{i}:{i.date}')"
   ]
  },
  {
   "cell_type": "code",
   "execution_count": 22,
   "id": "9c8c39e9",
   "metadata": {},
   "outputs": [
    {
     "data": {
      "text/plain": [
       "'No Solution'"
      ]
     },
     "execution_count": 22,
     "metadata": {},
     "output_type": "execute_result"
    }
   ],
   "source": [
    "# No back to back same matchups\n",
    "runSearch([Game('CAR', 'NYR'), Game('CAR', 'NYR')], allowedDays = 3)"
   ]
  },
  {
   "cell_type": "code",
   "execution_count": null,
   "id": "f1f2174c",
   "metadata": {
    "scrolled": true
   },
   "outputs": [
    {
     "name": "stdout",
     "output_type": "stream",
     "text": [
      "[CAR @ MIN, CAR @ NYR, CAR @ CGY, CAR @ MIN, CAR @ MTL, CAR @ EDM, PIT @ CAR]\n"
     ]
    }
   ],
   "source": [
    "# 7 games, 6 road. Make sure the road trip is split\n",
    "tstGames = [Game(randomTeam('CAR'), 'CAR') for i in range(6)] + [Game('CAR', randomTeam('CAR')) for i in range(1)]\n",
    "print(tstGames)\n",
    "sched = runSearch(tstGames, allowedDays = 28)\n",
    "print(sched)"
   ]
  },
  {
   "cell_type": "code",
   "execution_count": null,
   "id": "83e22fca",
   "metadata": {},
   "outputs": [],
   "source": [
    "# 7 games, 6 home. Make sure the home stand is split\n",
    "tstGames = [Game(randomTeam('CAR'), 'CAR') for i in range(1)] + [Game('CAR', randomTeam('CAR')) for i in range(6)]\n",
    "print(tstGames)\n",
    "sched = runSearch(tstGames, allowedDays = 28)\n",
    "print(sched)"
   ]
  },
  {
   "cell_type": "markdown",
   "id": "490bc50a",
   "metadata": {},
   "source": [
    "# Time Complexity"
   ]
  },
  {
   "cell_type": "code",
   "execution_count": null,
   "id": "6d87b65d",
   "metadata": {},
   "outputs": [],
   "source": [
    "def timeRandom(n):\n",
    "    '''Time a search for n games, assume enough days'''\n",
    "    randomGames = list(allGames.sample(n = n).apply(gameToObj, axis = 1))\n",
    "    t1 = t()\n",
    "    sol = runSearch(randomGames)\n",
    "    return sol, t() - t1"
   ]
  },
  {
   "cell_type": "code",
   "execution_count": null,
   "id": "d62e3081",
   "metadata": {},
   "outputs": [],
   "source": [
    "x, y, solutions = [], [], []"
   ]
  },
  {
   "cell_type": "code",
   "execution_count": null,
   "id": "a4bd88fa",
   "metadata": {
    "scrolled": true
   },
   "outputs": [],
   "source": [
    "numSims = 0\n",
    "for n in range(1,6):\n",
    "    for rep in range(30):\n",
    "        x += [n]\n",
    "        sol = timeRandom(n)\n",
    "        numSims += 1\n",
    "        print(f'{numSims}/150')\n",
    "        y += [sol[1]]\n",
    "        solutions += [sol[0]]"
   ]
  },
  {
   "cell_type": "code",
   "execution_count": null,
   "id": "aa2fafb9",
   "metadata": {},
   "outputs": [],
   "source": [
    "timeData = pd.DataFrame({'n': x, 'n^2':[i**2 for i in x], 'Time (sec)': y})"
   ]
  },
  {
   "cell_type": "code",
   "execution_count": null,
   "id": "189780f2",
   "metadata": {},
   "outputs": [],
   "source": [
    "from sklearn.linear_model import LinearRegression as linreg"
   ]
  },
  {
   "cell_type": "code",
   "execution_count": null,
   "id": "beb8f1cc",
   "metadata": {},
   "outputs": [],
   "source": [
    "model = linreg(fit_intercept = False)"
   ]
  },
  {
   "cell_type": "code",
   "execution_count": null,
   "id": "759285bf",
   "metadata": {},
   "outputs": [],
   "source": [
    "model.fit(X = timeData[['n', 'n^2']], y = timeData['Time (sec)'])"
   ]
  },
  {
   "cell_type": "code",
   "execution_count": null,
   "id": "3f603e6e",
   "metadata": {},
   "outputs": [],
   "source": [
    "sns.regplot(x,y, order = 2)\n",
    "# xs = np.linspace(1,7,1000)\n",
    "# plt.plot(xs, model.predict([[i,i**2]for i in xs]))\n",
    "plt.xlabel('# of games searched')\n",
    "plt.ylabel('Time to find Solution (seconds)')\n",
    "plt.title('The Search Algorithm Runs on Exponential Time')"
   ]
  },
  {
   "cell_type": "code",
   "execution_count": null,
   "id": "2aa44be8",
   "metadata": {},
   "outputs": [],
   "source": [
    "fullPred = model.predict([[1312, 1312**2]])[0]"
   ]
  },
  {
   "cell_type": "code",
   "execution_count": null,
   "id": "717c030b",
   "metadata": {},
   "outputs": [],
   "source": [
    "# Around 339 days to search for the optimal NHL schedule\n",
    "print(f'It will likely take around {round(fullPred/60/60/24)} days to run this for the full 2022 schedule')"
   ]
  }
 ],
 "metadata": {
  "kernelspec": {
   "display_name": "Python 3 (ipykernel)",
   "language": "python",
   "name": "python3"
  },
  "language_info": {
   "codemirror_mode": {
    "name": "ipython",
    "version": 3
   },
   "file_extension": ".py",
   "mimetype": "text/x-python",
   "name": "python",
   "nbconvert_exporter": "python",
   "pygments_lexer": "ipython3",
   "version": "3.9.12"
  }
 },
 "nbformat": 4,
 "nbformat_minor": 5
}
